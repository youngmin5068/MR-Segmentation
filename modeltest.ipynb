{
 "cells": [
  {
   "cell_type": "code",
   "execution_count": 46,
   "metadata": {},
   "outputs": [],
   "source": [
    "import numpy as np\n",
    "from PIL import Image\n",
    "import torch as torch\n",
    "from torch.utils.data import Dataset,DataLoader\n",
    "import torchvision.transforms as transforms\n",
    "import os\n",
    "from einops import rearrange\n",
    "from custom_transforms import *\n",
    "import pydicom\n",
    "from pydicom.pixel_data_handlers.util import apply_voi_lut\n",
    "from monai.transforms import AsDiscrete\n",
    "\n",
    "\n",
    "class tumor_Dataset(Dataset):\n",
    "    def __init__(self,path, train=True):\n",
    "        self.path = path\n",
    "        self.train = train\n",
    "        self.train_path_list = []\n",
    "        self.train_list = []\n",
    "\n",
    "        self.label_path_list = []\n",
    "        self.label_list = []\n",
    "\n",
    "        self.train_path = path + \"/input\"\n",
    "        self.label_path = path + \"/target\"\n",
    "\n",
    "        \n",
    "        for file in os.listdir(self.train_path):\n",
    "            self.train_path_list.append(os.path.join(self.train_path,file))\n",
    "        self.train_path_list.sort()\n",
    "                \n",
    "        for file in os.listdir(self.label_path):\n",
    "            self.label_path_list.append(os.path.join(self.label_path,file))           \n",
    "        self.label_path_list.sort()\n",
    "\n",
    "    def __len__(self):\n",
    "        return len(self.label_path_list)\n",
    "\n",
    "    def preprocessing(self,train_path, label_path):\n",
    "\n",
    "        input_slice = pydicom.read_file(train_path)\n",
    "        input_img = input_slice.pixel_array\n",
    "        input_img = apply_voi_lut(input_img, input_slice)\n",
    "        epsilon = 1e-10\n",
    "        min_val = np.min(input_img)\n",
    "        max_val = np.max(input_img)\n",
    "        input_img = (input_img - min_val) / (max_val - min_val+epsilon)\n",
    "        input_img = Image.fromarray(input_img)\n",
    "\n",
    "        target_slice = pydicom.read_file(label_path)\n",
    "        target_img = target_slice.pixel_array\n",
    "        epsilon = 1e-10\n",
    "        min_val = np.min(target_img)\n",
    "        max_val = np.max(target_img)\n",
    "        target_img = (target_img - min_val) / (max_val - min_val+epsilon)\n",
    "\n",
    "        target_img = Image.fromarray(target_img)\n",
    "\n",
    "        return input_img, target_img\n",
    "\n",
    "    def __getitem__(self,idx):\n",
    "        if self.train:\n",
    "            self.transform = transforms.Compose([transforms.ToTensor(),\n",
    "                                                transforms.Resize((512,512)),\n",
    "                                                customRandomRotate(degrees=180,SEED=idx),\n",
    "                                                customRandomHorizontalFlip(p=0.5,SEED=idx),\n",
    "                                                #customRandomResizedCrop(SEED=idx,size=(256,256))\n",
    "                                                ])\n",
    "        else:\n",
    "            self.transform = transforms.Compose([transforms.ToTensor(),\n",
    "                                                 transforms.Resize((512,512))\n",
    "                                                 ])\n",
    "\n",
    "        \n",
    "\n",
    "        image,label = self.preprocessing(self.train_path_list[idx], self.label_path_list[idx])    \n",
    "\n",
    "        input_image = self.transform((image))\n",
    "        target_image = self.transform((label))\n",
    "\n",
    "        threshold = AsDiscrete(threshold=0.5)\n",
    "        target_image = threshold(target_image)\n",
    "\n",
    "\n",
    "        return input_image, target_image\n",
    "\n"
   ]
  },
  {
   "cell_type": "code",
   "execution_count": 30,
   "metadata": {},
   "outputs": [
    {
     "data": {
      "text/plain": [
       "<All keys matched successfully>"
      ]
     },
     "execution_count": 30,
     "metadata": {},
     "output_type": "execute_result"
    }
   ],
   "source": [
    "import torch\n",
    "import torch.nn as nn\n",
    "from tumorSeg_model import tumor_model\n",
    "from roi_model import ROI_MODEL\n",
    "device = \"cuda:0\"\n",
    "net_path = '/workspace/MR-Segmentation/CHECKPOINT_tumor/LKA_SwinUNetr_231103.pth'\n",
    "net = tumor_model(img_size=(512,512),spatial_dims=2,in_channels=1,out_channels=1,depths=(2,2,2,2)).to(device=device)\n",
    "if torch.cuda.device_count() > 1:\n",
    "    net = nn.DataParallel(net,device_ids=[0,1,2,3]) \n",
    "net.load_state_dict(torch.load(net_path))\n",
    "\n",
    "\n",
    "\n",
    "model_path = '/workspace/MR-Segmentation/dir_checkpoint_breast_ROI/ROI_Model_231102.pth'\n",
    "roi_model = ROI_MODEL(img_size=(512,512),spatial_dims=2,in_channels=1,out_channels=1,depths=(2,2,2,2)).to(device=device)\n",
    "if torch.cuda.device_count() > 1:\n",
    "    roi_model = nn.DataParallel(roi_model,device_ids=[0,1,2,3]) \n",
    "\n",
    "roi_model.load_state_dict(torch.load(model_path))\n"
   ]
  },
  {
   "cell_type": "code",
   "execution_count": 4,
   "metadata": {},
   "outputs": [],
   "source": [
    "from monai.transforms import AsDiscrete\n",
    "import pandas as pd \n",
    "\n",
    "def set_seed(seed):\n",
    "    torch.manual_seed(seed)\n",
    "    torch.cuda.manual_seed_all(seed)\n",
    "    torch.backends.cudnn.deterministic = True\n",
    "    torch.backends.cudnn.benchmark = False\n",
    "    np.random.seed(seed)\n",
    "    random.seed(seed)\n",
    "\n",
    "set_seed(7777777)\n",
    "\n",
    "\n",
    "test_excel = pd.read_excel(\"/mount_folder/test_data.xlsx\")\n",
    "test_list = test_excel[\"Patient\"].tolist()\n",
    "\n",
    "\n",
    "def evaluate_segmentation(model, roi_model, dataset, test_list, device='cuda:0'):\n",
    "    # 초기 confusion matrix 요소 값\n",
    "    TP_total = 0\n",
    "    FP_total = 0\n",
    "    FN_total = 0\n",
    "    TN_total = 0\n",
    "    threshold = AsDiscrete(threshold=0.5)\n",
    "    model.eval()\n",
    "    test_loader = DataLoader(dataset=dataset,batch_size=1,shuffle=False)\n",
    "\n",
    "    for input_image, true_mask in test_loader:\n",
    "        input_image = input_image.to(device)\n",
    "        \n",
    "        with torch.no_grad():\n",
    "            roi_preds = torch.sigmoid(roi_model(input_image))\n",
    "            roi_thresh = threshold(roi_preds)\n",
    "            roi_results = input_image * roi_thresh\n",
    "\n",
    "            predicted_mask = model(roi_results)\n",
    "\n",
    "        predicted_mask = predicted_mask.cpu().numpy()\n",
    "        true_mask = true_mask.cpu().numpy()\n",
    "\n",
    "        # 이진 분류를 위한 threshold 적용\n",
    "        predicted_mask = (predicted_mask > 0.5).astype(np.uint8)\n",
    "        \n",
    "        # 현재 slice에 대한 confusion matrix 요소 계산\n",
    "        TP = np.sum((predicted_mask == 1) & (true_mask == 1))\n",
    "        FP = np.sum((predicted_mask == 1) & (true_mask == 0))\n",
    "        FN = np.sum((predicted_mask == 0) & (true_mask == 1))\n",
    "        TN = np.sum((predicted_mask == 0) & (true_mask == 0))\n",
    "        \n",
    "        # 현재 slice의 결과를 전체 결과에 합산\n",
    "        TP_total += TP\n",
    "        FP_total += FP\n",
    "        FN_total += FN\n",
    "        TN_total += TN\n",
    "    \n",
    "    # 모든 slices를 기반으로 한 Dice Score 계산\n",
    "    dice = (2 * TP_total) / (2 * TP_total + FP_total + FN_total+1e-10)\n",
    "    \n",
    "    return dice\n",
    "\n"
   ]
  },
  {
   "cell_type": "code",
   "execution_count": 49,
   "metadata": {},
   "outputs": [
    {
     "data": {
      "text/plain": [
       "211"
      ]
     },
     "execution_count": 49,
     "metadata": {},
     "output_type": "execute_result"
    }
   ],
   "source": [
    "len(test_list)"
   ]
  },
  {
   "cell_type": "code",
   "execution_count": 31,
   "metadata": {},
   "outputs": [
    {
     "name": "stdout",
     "output_type": "stream",
     "text": [
      "1167753 : 0.7633532273433964\n"
     ]
    }
   ],
   "source": [
    "dice_dict = {}\n",
    "for patient in test_list:\n",
    "    dataset = tumor_Dataset_testing(path=\"/mount_folder/Tumors/test\",patient=patient, train=False)\n",
    "    model = net\n",
    "    dice = evaluate_segmentation(model, roi_model, dataset, test_list, device='cuda:0')\n",
    "    print(f\"{patient} : {dice}\")\n",
    "    dice_dict[f\"{patient}\"] = dice"
   ]
  },
  {
   "cell_type": "code",
   "execution_count": 18,
   "metadata": {},
   "outputs": [
    {
     "name": "stdout",
     "output_type": "stream",
     "text": [
      "[0.907629412739625, 0.4354327715118434, 0.6274668507629666, 0.7208376963350634, 0.3967041800643047, 0.7276663689751273, 0.7682672233820191, 0.3220953416711952, 0.6960346692995781, 0.8106619756013583, 0.8224187160357354, 0.9047881122729725, 0.8992317541613258, 0.7791984615699336, 0.2967693463561121, 0.30194619347452345, 0.7997202308095793, 0.8477064220183367, 0.7430235994427292, 0.7633532273433964, 0.07006000509695788, 0.803144989339017, 0.6215182960130906, 0.7836986301369809, 0.8128292474079023, 0.7382309096228586, 0.8040383465804662, 0.8981181051265394, 0.027864235956721092, 0.40884902840059667, 0.6151225409385613, 0.8579750052954838, 0.8689001337753729, 0.8901401241282175, 0.8889236790606584, 0.8506117631035338, 0.7629893238434103, 0.7206349206349119, 0.6953002566001331, 0.9191682301438364, 0.7150202976995844, 0.810313075506444, 0.8139607744846151, 0.0, 0.8754127889522535, 0.7254003436854024, 0.19652173913043136, 0.8317113695703675, 0.8153215462387746, 0.7672310212998278, 0.11904556809371937, 0.8366285119667003, 0.8847560395339656, 0.9189074979223291, 0.8459056070996313, 0.7029793456406378, 0.5826958028657147, 0.8952328465141896, 0.039436100617340465, 0.5805782026592241, 0.2574979287489622, 0.7239518472395142, 0.03798420458819034, 0.7138064971751381, 0.7826830405720443, 0.8817607916737741, 0.7739216739070298, 0.5624588059805025, 0.6555474981870445, 0.6697572282542312, 0.32519936204146604, 0.13662436989396717, 0.6528008874098634, 0.8497075639087834, 0.46021579828053516, 0.7228537828302343, 0.8998460222412288, 0.528031095828969, 0.007439428973559792, 0.7605633802816836, 0.8789496288115817, 0.7310211011399431, 0.5939071280686011, 0.2890551917680007, 0.8772344511744676, 0.8477750217651973, 0.9273627429247009, 0.9183057550213246, 0.7596946564885381, 0.3828541917713871, 0.8585589020205789, 0.605150214592253, 0.5502937779340102, 0.7935693518043407, 0.8802729349177411, 0.8932834673907459, 0.0, 0.8867931243104721, 0.5596350689808571, 0.6309408341415947, 0.8955155143630138, 0.2689747003994584, 0.8594572140681193, 0.767557621080939, 0.8305927342255897, 0.5908114192162018, 0.8809560235946063, 0.6986797066014662, 0.7518523418893874, 0.4411563851581962, 0.6437482672581003, 0.587678387395412, 0.8885772122614215, 0.8286879293973054, 0.038027162258755985, 0.7969075400108384, 0.4851215423302548, 0.5366603999316264, 0.7944135756119498, 0.4345146379044349, 0.7364741641337382, 0.3551846615400519, 0.3158734748163993, 0.7795124326956892, 0.8240083309665794, 0.899619044044512, 0.10151863435957305, 0.44228600717580613, 0.6095341930147739, 0.8310029037301728, 0.8565911169834246, 0.8294088176352602, 0.5950877381560199, 0.881916784116672, 0.48475060096153666, 0.8417818740399342, 0.0, 0.5416666666666545, 0.8555839404547865, 0.8469851213782169, 0.8612926652142306, 0.8548700281866529, 0.9022850924918291, 0.5101764742052497, 0.8331838267052034, 0.79197237807508, 0.0, 0.7531442663378359, 0.34221840068786147, 0.8391073850326682, 0.7043554712030915, 0.8094445541482106, 0.45792235047218344, 0.3549073230021243, 0.34437805540466826, 0.11291866028707594, 0.8779162671779981, 0.0, 0.01505214493065254, 0.7171381809679664, 0.7924779658071796, 0.8370342095218035, 0.8518499823330431, 0.5412237008400822, 0.7848227658511839, 0.8655555555555516, 0.4036402569592932, 0.8750950088674907, 0.8284559417946638, 0.4636600819977464, 0.20335343766638428, 0.41962219697925696, 0.5138867809986263, 0.6167664670658477, 0.8889590767076974, 0.7831043043463031, 0.8479287400729726, 0.5313912606730276, 0.7331091409354825, 0.8790489833443791, 0.4458699902248262, 0.9067582279541061, 0.7154402381965084, 0.0, 0.6101973913649987, 0.8830857690464676, 0.37836198179979397, 0.7967997830361326, 0.8943944389983054, 0.6428470555006309, 0.9048840567399967, 0.8401969302056135, 0.83582701373232, 0.548057259713679, 0.8383420392103642, 0.288726386349785, 0.7263334861684221, 0.6741583134804677, 0.34141029131499206, 0.7330053357355641, 0.9003926550409965, 0.39224321636595827, 0.7879031476997576, 0.0, 0.30094623340423926, 0.8447031431897358, 0.8696206115515227, 0.6034239322273155, 0.8010526023183188, 0.5451612903225513, 0.8345842726428833, 0.08417997097242176]\n"
     ]
    }
   ],
   "source": [
    "values_list = list(dice_dict.values())\n",
    "print(values_list)  # 출력: [1, 2, 3]"
   ]
  },
  {
   "cell_type": "code",
   "execution_count": 59,
   "metadata": {},
   "outputs": [],
   "source": [
    "import SimpleITK as sitk\n",
    "import torch\n",
    "import numpy as np\n",
    "\n",
    "\n",
    "# LabelOverlapMeasuresImageFilter를 사용하여 겹침 측정\n",
    "def calculate_overlap_measures(truth_image_3d, prediction_image_3d):\n",
    "    \n",
    "    truth_image_3d = sitk.Cast(truth_image_3d, sitk.sitkUInt16)\n",
    "    prediction_image_3d = sitk.Cast(prediction_image_3d,sitk.sitkUInt16)\n",
    "\n",
    "    overlap_measures_filter = sitk.LabelOverlapMeasuresImageFilter()\n",
    "    \n",
    "    # 필터에 진실 이미지와 예측 이미지 설정\n",
    "    overlap_measures_filter.Execute(truth_image_3d, prediction_image_3d)\n",
    "    \n",
    "    return overlap_measures_filter.GetDiceCoefficient(), overlap_measures_filter.GetJaccardCoefficient()\n",
    "    \n",
    "def combine_2d_slices_to_3d_itk(slices):\n",
    "    # 2D 슬라이스들을 하나의 Numpy 배열로 쌓기\n",
    "    volume_array = np.stack(slices)\n",
    "    volume_array = volume_array.squeeze()\n",
    "    image_3d = sitk.GetImageFromArray(volume_array)\n",
    "    #image_3d.CopyInformation(reference_image)\n",
    "    \n",
    "    return image_3d"
   ]
  },
  {
   "cell_type": "code",
   "execution_count": 60,
   "metadata": {},
   "outputs": [
    {
     "name": "stdout",
     "output_type": "stream",
     "text": [
      "1167753 dice score : 0.9055\n",
      "1167753 jaccard score : 0.8274\n",
      "1199340 dice score : 0.4344\n",
      "1199340 jaccard score : 0.2775\n",
      "1199440 dice score : 0.6177\n",
      "1199440 jaccard score : 0.4469\n",
      "1199470 dice score : 0.7171\n",
      "1199470 jaccard score : 0.5590\n",
      "1199870 dice score : 0.3936\n",
      "1199870 jaccard score : 0.2450\n",
      "1199940 dice score : 0.7210\n",
      "1199940 jaccard score : 0.5637\n",
      "1219657 dice score : 0.7686\n",
      "1219657 jaccard score : 0.6242\n",
      "1229070 dice score : 0.3142\n",
      "1229070 jaccard score : 0.1864\n",
      "1249647 dice score : 0.7049\n",
      "1249647 jaccard score : 0.5442\n",
      "1284590 dice score : 0.8064\n",
      "1284590 jaccard score : 0.6757\n",
      "1299050 dice score : 0.8182\n",
      "1299050 jaccard score : 0.6924\n",
      "1299690 dice score : 0.9034\n",
      "1299690 jaccard score : 0.8237\n",
      "1329450 dice score : 0.8984\n",
      "1329450 jaccard score : 0.8155\n",
      "1329490 dice score : 0.7823\n",
      "1329490 jaccard score : 0.6425\n",
      "1364554 dice score : 0.3030\n",
      "1364554 jaccard score : 0.1786\n",
      "1389134 dice score : 0.3077\n",
      "1389134 jaccard score : 0.1818\n",
      "1399050 dice score : 0.7972\n",
      "1399050 jaccard score : 0.6628\n",
      "1399230 dice score : 0.8475\n",
      "1399230 jaccard score : 0.7354\n",
      "1399820 dice score : 0.7380\n",
      "1399820 jaccard score : 0.5848\n",
      "1399990 dice score : 0.7692\n",
      "1399990 jaccard score : 0.6249\n",
      "1430946 dice score : 0.0739\n",
      "1430946 jaccard score : 0.0384\n",
      "1449557 dice score : 0.8031\n",
      "1449557 jaccard score : 0.6709\n",
      "1499030 dice score : 0.6203\n",
      "1499030 jaccard score : 0.4496\n",
      "1499100 dice score : 0.7848\n",
      "1499100 jaccard score : 0.6459\n",
      "1499560 dice score : 0.8139\n",
      "1499560 jaccard score : 0.6862\n",
      "1587857 dice score : 0.7419\n",
      "1587857 jaccard score : 0.5897\n",
      "2099330 dice score : 0.8017\n",
      "2099330 jaccard score : 0.6690\n",
      "2296328 dice score : 0.8982\n",
      "2296328 jaccard score : 0.8152\n",
      "2319117 dice score : 0.0316\n",
      "2319117 jaccard score : 0.0160\n",
      "2399130 dice score : 0.3998\n",
      "2399130 jaccard score : 0.2499\n"
     ]
    }
   ],
   "source": [
    "dice_dict = {}\n",
    "jaccard_dict = {}\n",
    "for patient in test_list:\n",
    "\n",
    "    test_dataset = tumor_Dataset(path=f\"/mount_folder/Tumors/test/{patient}/\",train=False)\n",
    "    test_loader = DataLoader(test_dataset,batch_size = 1, shuffle=False)\n",
    "    target_dir = f\"/mount_folder/Tumors/test/{patient}/target\"\n",
    "\n",
    "    threshold = AsDiscrete(threshold=0.5)\n",
    "\n",
    "    # 실제 마스크 3D 볼륨으로 로드 (DICOM)\n",
    "    #itk_truth_3d = load_dicom_slices_as_3d_itk(target_dir)\n",
    "    # 2D 슬라이스들에 대한 모델 예측을 쌓아 3D 볼륨 만들기\n",
    "    model_outputs = []\n",
    "    model_truemasks = []\n",
    "    for i, (image,true_mask) in enumerate(test_loader):\n",
    "        image = image.to(device=\"cuda:0\",dtype=torch.float32)\n",
    "        true_mask = true_mask.to(device=\"cuda:0\",dtype=torch.float32)\n",
    "        with torch.no_grad():\n",
    "            roi_preds = torch.sigmoid(roi_model(image))\n",
    "            roi_thresh = threshold(roi_preds)\n",
    "            roi_results = image * roi_thresh\n",
    "\n",
    "            predicted_mask = model(roi_results)\n",
    "        model_output = threshold(torch.sigmoid(predicted_mask))\n",
    "        # 결과를 리스트에 추가\n",
    "        model_outputs.append(model_output.detach().cpu().numpy())\n",
    "        model_truemasks.append(true_mask.detach().cpu().numpy())\n",
    "\n",
    "    # 모델 출력 3D 볼륨으로 변환\n",
    "    itk_pred_3d = combine_2d_slices_to_3d_itk(model_outputs)\n",
    "    itk_truth_3d = combine_2d_slices_to_3d_itk(model_truemasks)\n",
    "\n",
    "    # 이미지를 로드하고 겹침 측정 실행\n",
    "    overlap_measures = calculate_overlap_measures(itk_truth_3d, itk_pred_3d)\n",
    "\n",
    "    print(f\"{patient} dice score : {overlap_measures[0]:.4f}\")\n",
    "    print(f\"{patient} jaccard score : {overlap_measures[1]:.4f}\")\n",
    "\n",
    "    dice_dict[f\"{patient}\"] = overlap_measures[0]\n",
    "    jaccard_dict[f\"{patient}\"] = overlap_measures[1]\n",
    "    \n"
   ]
  },
  {
   "cell_type": "code",
   "execution_count": 57,
   "metadata": {},
   "outputs": [
    {
     "data": {
      "text/plain": [
       "0.6443435110200715"
      ]
     },
     "execution_count": 57,
     "metadata": {},
     "output_type": "execute_result"
    }
   ],
   "source": [
    "dice_list = list(dice_dict.values())\n",
    "np.mean(dice_list)"
   ]
  },
  {
   "cell_type": "code",
   "execution_count": 54,
   "metadata": {},
   "outputs": [],
   "source": [
    "# 딕셔너리를 DataFrame으로 변환\n",
    "df = pd.DataFrame(list(dice_dict.items()), columns=['Patient ID', 'DICE'])\n",
    "\n",
    "# DataFrame을 Excel 파일로 저장\n",
    "df.to_excel('/mount_folder/patients_dice_scores.xlsx', index=False)"
   ]
  },
  {
   "cell_type": "code",
   "execution_count": 26,
   "metadata": {},
   "outputs": [
    {
     "data": {
      "text/plain": [
       "<matplotlib.image.AxesImage at 0x7ff5786c75e0>"
      ]
     },
     "execution_count": 26,
     "metadata": {},
     "output_type": "execute_result"
    },
    {
     "data": {
      "image/png": "[encoded data removed]",
      "text/plain": [
       "<Figure size 640x480 with 2 Axes>"
      ]
     },
     "metadata": {},
     "output_type": "display_data"
    }
   ],
   "source": [
    "import matplotlib.pyplot as plt\n",
    "true_mask = sitk.GetArrayFromImage(itk_truth_3d)\n",
    "pred_img = sitk.GetArrayFromImage(itk_pred_3d)\n",
    "\n",
    "plt.subplot(1,2,1)\n",
    "plt.imshow(true_mask[60])\n",
    "plt.subplot(1,2,2)\n",
    "plt.imshow(pred_img[60])"
   ]
  },
  {
   "cell_type": "code",
   "execution_count": null,
   "metadata": {},
   "outputs": [],
   "source": []
  },
  {
   "cell_type": "code",
   "execution_count": 65,
   "metadata": {},
   "outputs": [],
   "source": [
    "import SimpleITK as sitk\n",
    "import pydicom\n",
    "import os\n",
    "import numpy as np\n",
    "\n",
    "directory = '/mount_folder/Tumors/test/1167753/input' \n",
    "# SimpleITK를 이용하여 DICOM 시리즈 읽기\n",
    "reader = sitk.ImageSeriesReader()\n",
    "dicom_names = reader.GetGDCMSeriesFileNames(directory)\n",
    "reader.SetFileNames(dicom_names)\n",
    "images = reader.Execute()"
   ]
  }
 ],
 "metadata": {
  "kernelspec": {
   "display_name": "base",
   "language": "python",
   "name": "python3"
  },
  "language_info": {
   "codemirror_mode": {
    "name": "ipython",
    "version": 3
   },
   "file_extension": ".py",
   "mimetype": "text/x-python",
   "name": "python",
   "nbconvert_exporter": "python",
   "pygments_lexer": "ipython3",
   "version": "3.10.8"
  },
  "orig_nbformat": 4,
  "vscode": {
   "interpreter": {
    "hash": "d4d1e4263499bec80672ea0156c357c1ee493ec2b1c70f0acce89fc37c4a6abe"
   }
  }
 },
 "nbformat": 4,
 "nbformat_minor": 2
}
